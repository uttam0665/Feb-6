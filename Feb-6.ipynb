{
 "cells": [
  {
   "cell_type": "code",
   "execution_count": 1,
   "id": "a3bbf62d",
   "metadata": {},
   "outputs": [
    {
     "name": "stdout",
     "output_type": "stream",
     "text": [
      "4134711838987085478833841242112000\n"
     ]
    }
   ],
   "source": [
    "\"\"\"Q1. Create a function which will take a list as an argument and return the product of all the numbers\n",
    "after creating a flat list.\n",
    "Use the below-given list as an argument for your function.\n",
    "list1 = [1,2,3,4, [44,55,66, True], False, (34,56,78,89,34), {1,2,3,3,2,1}, {1:34, \"key2\": [55, 67, 78, 89], 4: (45,\n",
    "22, 61, 34)}, [56, 'data science'], 'Machine Learning']\"\"\"\n",
    "\n",
    "from functools import reduce\n",
    "\n",
    "lst = [1,2,3,4, [44,55,66, True], False, (34,56,78,89,34), {1,2,3,3,2,1}, {1:34, \"key2\": [55, 67, 78, 89], 4: (45,22, 61, 34)}, [56, 'data science'], 'Machine Learning']\n",
    "\n",
    "def extract(lst):\n",
    "    rlst = []\n",
    "\n",
    "    for i in lst:\n",
    "        if type(i)==int:\n",
    "            rlst.append(i)\n",
    "        elif type(i)==list:\n",
    "            for j in i:\n",
    "                if type(j)==int:\n",
    "                    rlst.append(j)\n",
    "        elif type(i)==set:\n",
    "            for k in i:\n",
    "                if type(k)==int:\n",
    "                    rlst.append(k)\n",
    "        elif type(i)==tuple:\n",
    "            for l in i:\n",
    "                if type(l)==int:\n",
    "                    rlst.append(l)\n",
    "        elif type(i)==dict:\n",
    "            for key in i.keys():\n",
    "                if type(key)==int:\n",
    "                    rlst.append(key)\n",
    "            for val in i.values():\n",
    "                if type(val)==int:\n",
    "                    rlst.append(val)\n",
    "                elif type(val)==list:\n",
    "                    for j in val:\n",
    "                        if type(j)==int:\n",
    "                            rlst.append(j)\n",
    "                elif type(val)==set:\n",
    "                    for k in val:\n",
    "                        if type(k)==int:\n",
    "                            rlst.append(k)\n",
    "                elif type(val)==tuple:\n",
    "                    for l in val:\n",
    "                        if type(l)==int:\n",
    "                            rlst.append(l)\n",
    "    return(rlst)\n",
    "\n",
    "rlst = extract(lst)\n",
    "mul = int(reduce(lambda x,y:x*y,rlst))\n",
    "print(mul)\n"
   ]
  },
  {
   "cell_type": "markdown",
   "id": "1db3764c",
   "metadata": {},
   "source": []
  },
  {
   "cell_type": "markdown",
   "id": "7e66dd2d",
   "metadata": {},
   "source": []
  },
  {
   "cell_type": "code",
   "execution_count": 2,
   "id": "f29a60ec",
   "metadata": {},
   "outputs": [
    {
     "name": "stdout",
     "output_type": "stream",
     "text": [
      "r$dzmg$gl$yvxlnv$z$wzgz$hxrvmgrhg.\n"
     ]
    }
   ],
   "source": [
    "'''Q2. Write a python program for encrypting a message sent to you by your friend. The logic of encryption\n",
    "should be such that, for a the output should be z. For b, the output should be y. For c, the output should\n",
    "be x respectively. Also, the whitespace should be replaced with a dollar sign. Keep the punctuation\n",
    "marks unchanged.\n",
    "Input Sentence: I want to become a Data Scientist.\n",
    "Encrypt the above input sentence using the program you just created.\n",
    "Note: Convert the given input sentence into lowercase before encrypting. The final output should be\n",
    "lowercase.'''\n",
    "\n",
    "\n",
    "def encrypt_message(message):\n",
    "    encrypted = \"\"\n",
    "    for char in message.lower():\n",
    "        if char.isalpha():\n",
    "            encrypted += chr(ord('a') + (ord('z') - ord(char)))\n",
    "        elif char.isspace():\n",
    "            encrypted += \"$\"\n",
    "        else:\n",
    "            encrypted += char\n",
    "    return encrypted\n",
    "\n",
    "input_sentence = \"I want to become a Data Scientist.\"\n",
    "\n",
    "encrypted_sentence = encrypt_message(input_sentence)\n",
    "\n",
    "print(encrypted_sentence)\n",
    "\n"
   ]
  },
  {
   "cell_type": "code",
   "execution_count": null,
   "id": "896cec98",
   "metadata": {},
   "outputs": [],
   "source": []
  }
 ],
 "metadata": {
  "kernelspec": {
   "display_name": "Python 3 (ipykernel)",
   "language": "python",
   "name": "python3"
  },
  "language_info": {
   "codemirror_mode": {
    "name": "ipython",
    "version": 3
   },
   "file_extension": ".py",
   "mimetype": "text/x-python",
   "name": "python",
   "nbconvert_exporter": "python",
   "pygments_lexer": "ipython3",
   "version": "3.10.11"
  }
 },
 "nbformat": 4,
 "nbformat_minor": 5
}
